{
 "cells": [
  {
   "cell_type": "code",
   "execution_count": 1,
   "id": "fe82588e",
   "metadata": {},
   "outputs": [
    {
     "name": "stdout",
     "output_type": "stream",
     "text": [
      "b'1234abcd5678efgh'\n"
     ]
    }
   ],
   "source": [
    "import binascii\n",
    "file = open(\"to_read.bin\", \"rb\")\n",
    "ascii_v = file.read()\n",
    "print(ascii_v)"
   ]
  },
  {
   "cell_type": "code",
   "execution_count": 2,
   "id": "dd0887dd",
   "metadata": {},
   "outputs": [],
   "source": [
    "string_v = \"\"\n",
    "for i in ascii_v:\n",
    "    string_v += \"1\" + \"{0:08b}\".format(i)[::-1] + \"0\""
   ]
  },
  {
   "cell_type": "code",
   "execution_count": 3,
   "id": "9e447f33",
   "metadata": {},
   "outputs": [],
   "source": [
    "file.close()\n",
    "file_2 = open(\"to_write_2.bin\", \"w\")\n",
    "file_2.write(string_v)\n",
    "file_2.close()"
   ]
  },
  {
   "cell_type": "code",
   "execution_count": null,
   "id": "716aa050",
   "metadata": {},
   "outputs": [],
   "source": []
  }
 ],
 "metadata": {
  "kernelspec": {
   "display_name": "Python 3 (ipykernel)",
   "language": "python",
   "name": "python3"
  },
  "language_info": {
   "codemirror_mode": {
    "name": "ipython",
    "version": 3
   },
   "file_extension": ".py",
   "mimetype": "text/x-python",
   "name": "python",
   "nbconvert_exporter": "python",
   "pygments_lexer": "ipython3",
   "version": "3.9.7"
  }
 },
 "nbformat": 4,
 "nbformat_minor": 5
}
