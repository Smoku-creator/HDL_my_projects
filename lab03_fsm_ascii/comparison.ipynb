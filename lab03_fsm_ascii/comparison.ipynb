{
 "cells": [
  {
   "cell_type": "code",
   "execution_count": 1,
   "id": "da14c7ff",
   "metadata": {},
   "outputs": [
    {
     "name": "stdout",
     "output_type": "stream",
     "text": [
      "Wyniki symulacji zgadzają się z konwesją Pythona\n"
     ]
    }
   ],
   "source": [
    "with open('to_write.bin', 'rb') as file1, open('to_write_2.bin', 'rb') as file2:\n",
    "\n",
    "    data1 = file1.read()\n",
    "    data2 = file2.read()\n",
    "\n",
    "if data1 == data2:\n",
    "    print(\"Wyniki symulacji zgadzają się z konwesją Pythona\")\n",
    "else:\n",
    "    print(\"Wykryto błędy\")"
   ]
  },
  {
   "cell_type": "code",
   "execution_count": null,
   "id": "2bbbf9e9",
   "metadata": {},
   "outputs": [],
   "source": []
  }
 ],
 "metadata": {
  "kernelspec": {
   "display_name": "Python 3 (ipykernel)",
   "language": "python",
   "name": "python3"
  },
  "language_info": {
   "codemirror_mode": {
    "name": "ipython",
    "version": 3
   },
   "file_extension": ".py",
   "mimetype": "text/x-python",
   "name": "python",
   "nbconvert_exporter": "python",
   "pygments_lexer": "ipython3",
   "version": "3.9.7"
  }
 },
 "nbformat": 4,
 "nbformat_minor": 5
}
